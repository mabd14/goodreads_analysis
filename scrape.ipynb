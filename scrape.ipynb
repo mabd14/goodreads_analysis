{
 "cells": [
  {
   "cell_type": "code",
   "execution_count": null,
   "id": "41515f2c",
   "metadata": {},
   "outputs": [],
   "source": [
    "import requests\n",
    "from bs4 import BeautifulSoup\n",
    "import pandas as pd\n",
    "import time\n",
    "import random\n",
    "from selenium import webdriver\n",
    "import re"
   ]
  },
  {
   "cell_type": "code",
   "execution_count": null,
   "id": "6a76c547",
   "metadata": {},
   "outputs": [],
   "source": [
    "# Initialise Selenium WebDriver\n",
    "driver = webdriver.Chrome()\n",
    "\n",
    "all_titles = []\n",
    "all_authors = []\n",
    "all_stars = []\n",
    "all_reviews = []\n",
    "all_genres = []\n",
    "\n",
    "# Number of pages you want to scrape\n",
    "NUM_PAGES = 28\n",
    "\n",
    "for page_number in range(1, NUM_PAGES + 1):\n",
    "    url = f\"https://www.goodreads.com/list/show/143500.Best_Books_of_the_Decade_2020_s?page={page_number}\"\n",
    "    driver.get(url)\n",
    "    \n",
    "    # Wait for page to load\n",
    "    time.sleep(3)\n",
    "    \n",
    "    # Get page source and parse with BeautifulSoup\n",
    "    html = driver.page_source\n",
    "    soup = BeautifulSoup(html, 'html.parser')\n",
    "    \n",
    "    # Find all book rows\n",
    "    book_rows = soup.select('table.tableList tr')\n",
    "    \n",
    "    for row in book_rows:\n",
    "        # Extract title\n",
    "        title_elem = row.select_one('a.bookTitle span')\n",
    "        title = title_elem.get_text(strip=True) if title_elem else 'N/A'\n",
    "\n",
    "        # Extract author\n",
    "        author_elem = row.select_one('a.authorName span')\n",
    "        author = author_elem.get_text(strip=True) if author_elem else 'N/A'\n",
    "\n",
    "        # Extract and parse rating text\n",
    "        rating_elem = row.select_one('span.minirating')\n",
    "        if rating_elem:\n",
    "            rating_text = rating_elem.get_text(strip=True)\n",
    "            match = re.search(r'([\\d.]+) avg rating — ([\\d,]+) ratings', rating_text)\n",
    "            if match:\n",
    "                stars = match.group(1)\n",
    "                reviews = match.group(2)\n",
    "            else:\n",
    "                stars = 'N/A'\n",
    "                reviews = 'N/A'\n",
    "        else:\n",
    "            stars = 'N/A'\n",
    "            reviews = 'N/A'\n",
    "\n",
    "        # Extract book link\n",
    "        book_link_elem = row.select_one('a.bookTitle')\n",
    "        book_link = 'https://www.goodreads.com' + book_link_elem['href'] if book_link_elem else 'N/A'\n",
    "\n",
    "        # Visit book page to get genres\n",
    "        if book_link != 'N/A':\n",
    "            driver.get(book_link)\n",
    "            time.sleep(3)\n",
    "            book_html = driver.page_source\n",
    "            book_soup = BeautifulSoup(book_html, 'html.parser')\n",
    "\n",
    "            genre_spans = book_soup.select('ul.CollapsableList a.Button--tag span.Button__labelItem')\n",
    "            genres = [span.get_text(strip=True) for span in genre_spans]\n",
    "            genres_text = ', '.join(genres)\n",
    "        else:\n",
    "            genres_text = 'N/A'\n",
    "\n",
    "        # Store results\n",
    "        all_titles.append(title)\n",
    "        all_authors.append(author)\n",
    "        all_stars.append(stars)\n",
    "        all_reviews.append(reviews)\n",
    "        all_genres.append(genres_text)\n",
    "        \n",
    "\n",
    "# Close the browser\n",
    "driver.quit()\n",
    "\n",
    "df = pd.DataFrame({\n",
    "    'Title': all_titles,\n",
    "    'Author': all_authors,\n",
    "    'Stars': all_stars,\n",
    "    'Number of Reviews': all_reviews,\n",
    "    'Genres': all_genres\n",
    "})"
   ]
  },
  {
   "cell_type": "code",
   "execution_count": null,
   "id": "75173e21",
   "metadata": {},
   "outputs": [],
   "source": [
    "len(all_authors)"
   ]
  },
  {
   "cell_type": "code",
   "execution_count": null,
   "id": "4261c576",
   "metadata": {},
   "outputs": [],
   "source": [
    "df = pd.DataFrame({\n",
    "    'Title': all_titles,\n",
    "    'Author': all_authors,\n",
    "    'Stars': all_stars,\n",
    "    'Number of Reviews': all_reviews,\n",
    "    'Genres': all_genres\n",
    "})"
   ]
  },
  {
   "cell_type": "code",
   "execution_count": null,
   "id": "db2faa4c",
   "metadata": {},
   "outputs": [],
   "source": [
    "len(all_titles)"
   ]
  },
  {
   "cell_type": "code",
   "execution_count": null,
   "id": "dd46db2b",
   "metadata": {},
   "outputs": [],
   "source": [
    "len(all_stars)"
   ]
  },
  {
   "cell_type": "code",
   "execution_count": null,
   "id": "bd596a79",
   "metadata": {},
   "outputs": [],
   "source": [
    "len(all_reviews)"
   ]
  },
  {
   "cell_type": "code",
   "execution_count": null,
   "id": "9e1d4c52",
   "metadata": {},
   "outputs": [],
   "source": [
    "len(all_genres)"
   ]
  },
  {
   "cell_type": "code",
   "execution_count": null,
   "id": "ce5aefaf",
   "metadata": {},
   "outputs": [],
   "source": [
    "len(df)"
   ]
  },
  {
   "cell_type": "code",
   "execution_count": null,
   "id": "315be691",
   "metadata": {},
   "outputs": [],
   "source": [
    "df"
   ]
  },
  {
   "cell_type": "code",
   "execution_count": null,
   "id": "17cbab4d",
   "metadata": {},
   "outputs": [],
   "source": [
    "df.isnull().sum()"
   ]
  },
  {
   "cell_type": "code",
   "execution_count": null,
   "id": "7f1355fa",
   "metadata": {},
   "outputs": [],
   "source": [
    "df.to_csv('top_books_decade:2020.csv')"
   ]
  },
  {
   "cell_type": "code",
   "execution_count": null,
   "id": "ac99ee06",
   "metadata": {},
   "outputs": [],
   "source": []
  }
 ],
 "metadata": {
  "kernelspec": {
   "display_name": "Python 3 (ipykernel)",
   "language": "python",
   "name": "python3"
  },
  "language_info": {
   "codemirror_mode": {
    "name": "ipython",
    "version": 3
   },
   "file_extension": ".py",
   "mimetype": "text/x-python",
   "name": "python",
   "nbconvert_exporter": "python",
   "pygments_lexer": "ipython3",
   "version": "3.12.7"
  }
 },
 "nbformat": 4,
 "nbformat_minor": 5
}
